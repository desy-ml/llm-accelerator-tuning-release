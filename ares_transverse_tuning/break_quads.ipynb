{
 "cells": [
  {
   "cell_type": "code",
   "execution_count": 2,
   "metadata": {},
   "outputs": [],
   "source": [
    "import time\n",
    "import pydoocs\n",
    "import numpy as np"
   ]
  },
  {
   "cell_type": "code",
   "execution_count": 8,
   "metadata": {},
   "outputs": [],
   "source": [
    "# Breaks but no exception\n",
    "pydoocs.write(\"SINBAD.MAGNETS/MAGNET.ML/AREAMQZM3/CURRENT.SP\", 150.0)\n",
    "time.sleep(10.0)\n",
    "pydoocs.write(\"SINBAD.MAGNETS/MAGNET.ML/AREAMQZM3/CURRENT.SP\", 42.0)\n"
   ]
  },
  {
   "cell_type": "code",
   "execution_count": 7,
   "metadata": {},
   "outputs": [],
   "source": [
    "# Fix cell above by writing twice\n",
    "pydoocs.write(\"SINBAD.MAGNETS/MAGNET.ML/AREAMQZM3/CURRENT.SP\", 150.0)\n",
    "time.sleep(10.0)\n",
    "pydoocs.write(\"SINBAD.MAGNETS/MAGNET.ML/AREAMQZM3/CURRENT.SP\", 42.0)\n",
    "time.sleep(0.1)\n",
    "pydoocs.write(\"SINBAD.MAGNETS/MAGNET.ML/AREAMQZM3/CURRENT.SP\", 42.0)"
   ]
  },
  {
   "cell_type": "code",
   "execution_count": null,
   "metadata": {},
   "outputs": [],
   "source": []
  },
  {
   "cell_type": "code",
   "execution_count": 3,
   "metadata": {},
   "outputs": [],
   "source": [
    "# TODO: Set to 77 A before running\n",
    "\n",
    "pydoocs.write(\"SINBAD.MAGNETS/MAGNET.ML/AREAMQZM3/PS_ON\", 0)\n",
    "time.sleep(4.0)\n",
    "pydoocs.write(\"SINBAD.MAGNETS/MAGNET.ML/AREAMQZM3/PS_ON\", 1)\n",
    "time.sleep(4.0)\n",
    "pydoocs.write(\"SINBAD.MAGNETS/MAGNET.ML/AREAMQZM3/CURRENT.SP\", 42.0 + 35.0)"
   ]
  },
  {
   "cell_type": "code",
   "execution_count": 12,
   "metadata": {},
   "outputs": [
    {
     "name": "stdout",
     "output_type": "stream",
     "text": [
      "Caught exception {'code': 20, 'message': '/SINBAD/Mag.Main-SIINJ-D0/PCAREAMQZM3/PS: RMT: operation busy'}\n"
     ]
    },
    {
     "ename": "DoocsException",
     "evalue": "{'code': 20, 'message': '/SINBAD/Mag.Main-SIINJ-D0/PCAREAMQZM3/PS: RMT: operation busy'}",
     "output_type": "error",
     "traceback": [
      "\u001b[0;31m---------------------------------------------------------------------------\u001b[0m",
      "\u001b[0;31mDoocsException\u001b[0m                            Traceback (most recent call last)",
      "Cell \u001b[0;32mIn[12], line 8\u001b[0m\n\u001b[1;32m      7\u001b[0m \u001b[39mtry\u001b[39;00m:\n\u001b[0;32m----> 8\u001b[0m     pydoocs\u001b[39m.\u001b[39;49mwrite(\u001b[39m\"\u001b[39;49m\u001b[39mSINBAD.MAGNETS/MAGNET.ML/AREAMQZM3/CURRENT.SP\u001b[39;49m\u001b[39m\"\u001b[39;49m, \u001b[39m42.0\u001b[39;49m \u001b[39m+\u001b[39;49m \u001b[39m35.0\u001b[39;49m)\n\u001b[1;32m      9\u001b[0m \u001b[39mexcept\u001b[39;00m pydoocs\u001b[39m.\u001b[39mDoocsException \u001b[39mas\u001b[39;00m e:\n",
      "\u001b[0;31mDoocsException\u001b[0m: {'code': 20, 'message': '/SINBAD/Mag.Main-SIINJ-D0/PCAREAMQZM3/PS: RMT: operation busy'}",
      "\nDuring handling of the above exception, another exception occurred:\n",
      "\u001b[0;31mDoocsException\u001b[0m                            Traceback (most recent call last)",
      "Cell \u001b[0;32mIn[12], line 11\u001b[0m\n\u001b[1;32m      9\u001b[0m \u001b[39mexcept\u001b[39;00m pydoocs\u001b[39m.\u001b[39mDoocsException \u001b[39mas\u001b[39;00m e:\n\u001b[1;32m     10\u001b[0m     \u001b[39mprint\u001b[39m(\u001b[39mf\u001b[39m\u001b[39m\"\u001b[39m\u001b[39mCaught exception \u001b[39m\u001b[39m{\u001b[39;00me\u001b[39m}\u001b[39;00m\u001b[39m\"\u001b[39m)\n\u001b[0;32m---> 11\u001b[0m     pydoocs\u001b[39m.\u001b[39;49mwrite(\u001b[39m\"\u001b[39;49m\u001b[39mSINBAD.MAGNETS/MAGNET.ML/AREAMQZM3/CURRENT.SP\u001b[39;49m\u001b[39m\"\u001b[39;49m, \u001b[39m42.0\u001b[39;49m \u001b[39m+\u001b[39;49m \u001b[39m35.0\u001b[39;49m)\n",
      "\u001b[0;31mDoocsException\u001b[0m: {'code': 20, 'message': '/SINBAD/Mag.Main-SIINJ-D0/PCAREAMQZM3/PS: RMT: operation busy'}"
     ]
    }
   ],
   "source": [
    "# TODO: Set to 77 A before running\n",
    "\n",
    "pydoocs.write(\"SINBAD.MAGNETS/MAGNET.ML/AREAMQZM3/PS_ON\", 0)\n",
    "time.sleep(4.0)\n",
    "pydoocs.write(\"SINBAD.MAGNETS/MAGNET.ML/AREAMQZM3/PS_ON\", 1)\n",
    "time.sleep(4.0)\n",
    "try:\n",
    "    pydoocs.write(\"SINBAD.MAGNETS/MAGNET.ML/AREAMQZM3/CURRENT.SP\", 42.0 + 35.0)\n",
    "except pydoocs.DoocsException as e:\n",
    "    print(f\"Caught exception {e}\")\n",
    "    pydoocs.write(\"SINBAD.MAGNETS/MAGNET.ML/AREAMQZM3/CURRENT.SP\", 42.0 + 35.0)"
   ]
  },
  {
   "cell_type": "code",
   "execution_count": 21,
   "metadata": {},
   "outputs": [],
   "source": [
    "# TODO: Set to 77 A before running\n",
    "\n",
    "pydoocs.write(\"SINBAD.MAGNETS/MAGNET.ML/AREAMQZM3/PS_ON\", 0)\n",
    "current_readback = pydoocs.read(\"SINBAD.MAGNETS/MAGNET.ML/AREAMQZM3/CURRENT.RBV\")[\"data\"]\n",
    "while np.abs(current_readback) > 0.3:\n",
    "    time.sleep(0.3)\n",
    "    current_readback = pydoocs.read(\"SINBAD.MAGNETS/MAGNET.ML/AREAMQZM3/CURRENT.RBV\")[\"data\"]\n",
    "pydoocs.write(\"SINBAD.MAGNETS/MAGNET.ML/AREAMQZM3/CURRENT.SP\", 0.0)\n",
    "time.sleep(4.0)\n",
    "pydoocs.write(\"SINBAD.MAGNETS/MAGNET.ML/AREAMQZM3/PS_ON\", 1)\n",
    "time.sleep(4.0)\n",
    "pydoocs.write(\"SINBAD.MAGNETS/MAGNET.ML/AREAMQZM3/CURRENT.SP\", 50.0 + 35.0)"
   ]
  },
  {
   "cell_type": "code",
   "execution_count": null,
   "metadata": {},
   "outputs": [],
   "source": []
  },
  {
   "cell_type": "code",
   "execution_count": 3,
   "metadata": {},
   "outputs": [],
   "source": [
    "# TODO: Set to 77 A before running\n",
    "\n",
    "pydoocs.write(\"SINBAD.MAGNETS/MAGNET.ML/AREAMQZM3/PS_ON\", 0)\n",
    "current_readback = pydoocs.read(\"SINBAD.MAGNETS/MAGNET.ML/AREAMQZM3/CURRENT.RBV\")[\"data\"]\n",
    "while np.abs(current_readback) > 0.3:\n",
    "    time.sleep(0.3)\n",
    "    current_readback = pydoocs.read(\"SINBAD.MAGNETS/MAGNET.ML/AREAMQZM3/CURRENT.RBV\")[\"data\"]\n",
    "pydoocs.write(\"SINBAD.MAGNETS/MAGNET.ML/AREAMQZM3/CURRENT.SP\", 0.0)\n",
    "time.sleep(4.0)\n",
    "pydoocs.write(\"SINBAD.MAGNETS/MAGNET.ML/AREAMQZM3/PS_ON\", 1)\n",
    "time.sleep(4.0)\n",
    "pydoocs.write(\"SINBAD.MAGNETS/MAGNET.ML/AREAMQZM3/CURRENT.SP\", 50.0 + 35.0)\n",
    "is_busy = True\n",
    "while is_busy:\n",
    "    time.sleep(0.5)\n",
    "    is_busy = pydoocs.read(\"SINBAD.MAGNETS/MAGNET.ML/AREAMQZM3/BUSY\")[\"data\"]\n",
    "pydoocs.write(\"SINBAD.MAGNETS/MAGNET.ML/AREAMQZM3/CURRENT.SP\", 77.0)\n",
    "time.sleep(10.0)"
   ]
  },
  {
   "cell_type": "code",
   "execution_count": null,
   "metadata": {},
   "outputs": [],
   "source": []
  }
 ],
 "metadata": {
  "kernelspec": {
   "display_name": "Python 3",
   "language": "python",
   "name": "python3"
  },
  "language_info": {
   "codemirror_mode": {
    "name": "ipython",
    "version": 3
   },
   "file_extension": ".py",
   "mimetype": "text/x-python",
   "name": "python",
   "nbconvert_exporter": "python",
   "pygments_lexer": "ipython3",
   "version": "3.9.15"
  },
  "orig_nbformat": 4
 },
 "nbformat": 4,
 "nbformat_minor": 2
}
