{
 "cells": [
  {
   "cell_type": "code",
   "execution_count": 1,
   "metadata": {},
   "outputs": [],
   "source": [
    "import sys\n",
    "\n",
    "sys.path.append(\"../../\")"
   ]
  },
  {
   "cell_type": "code",
   "execution_count": 2,
   "metadata": {},
   "outputs": [],
   "source": [
    "import matplotlib.pyplot as plt\n",
    "import numpy as np\n",
    "\n",
    "from src.eval import Study"
   ]
  },
  {
   "cell_type": "code",
   "execution_count": 3,
   "metadata": {},
   "outputs": [],
   "source": [
    "plt.style.use([\"science\", \"nature\"])"
   ]
  },
  {
   "cell_type": "code",
   "execution_count": 4,
   "metadata": {},
   "outputs": [],
   "source": [
    "FIG_DIR = \"figures\"\n",
    "DATA_DIR = \"../../data/bo_vs_rl\""
   ]
  },
  {
   "cell_type": "code",
   "execution_count": 5,
   "metadata": {},
   "outputs": [],
   "source": [
    "es_sim = Study.load(\n",
    "    f\"{DATA_DIR}/simulation/es_with_decay\", name=\"ES (Sim)\", runs=\"*problem_*\"\n",
    ")"
   ]
  },
  {
   "cell_type": "code",
   "execution_count": 6,
   "metadata": {},
   "outputs": [
    {
     "data": {
      "text/plain": [
       "145.3113363822922"
      ]
     },
     "execution_count": 6,
     "metadata": {},
     "output_type": "execute_result"
    }
   ],
   "source": [
    "es_sim.median_final_mae() * 1e6"
   ]
  },
  {
   "cell_type": "code",
   "execution_count": 10,
   "metadata": {},
   "outputs": [
    {
     "data": {
      "text/plain": [
       "(110.55584045000917, 94.02052023755427)"
      ]
     },
     "execution_count": 10,
     "metadata": {},
     "output_type": "execute_result"
    }
   ],
   "source": [
    "es_sim.mean_final_mae() * 1e6, es_sim.std_final_mae() * 1e6"
   ]
  },
  {
   "cell_type": "code",
   "execution_count": 12,
   "metadata": {},
   "outputs": [
    {
     "data": {
      "text/plain": [
       "114.0"
      ]
     },
     "execution_count": 12,
     "metadata": {},
     "output_type": "execute_result"
    }
   ],
   "source": [
    "es_sim.median_steps_to_threshold(max_steps=151)"
   ]
  },
  {
   "cell_type": "code",
   "execution_count": 15,
   "metadata": {},
   "outputs": [
    {
     "name": "stdout",
     "output_type": "stream",
     "text": [
      "ES (Sim) -> Median: 114.0 / Mean: 109.22222222222223 / Std: 23.0688716565456)\n"
     ]
    }
   ],
   "source": [
    "print(\n",
    "    f\"{es_sim.name} -> Median:\"\n",
    "    f\" {es_sim.median_steps_to_threshold(max_steps=151)} / Mean:\"\n",
    "    f\" {es_sim.mean_steps_to_threshold(max_steps=151)} / Std:\"\n",
    "    f\" {es_sim.std_steps_to_threshold(max_steps=151)})\"\n",
    ")"
   ]
  },
  {
   "cell_type": "code",
   "execution_count": 18,
   "metadata": {},
   "outputs": [
    {
     "name": "stdout",
     "output_type": "stream",
     "text": [
      "ES (Sim): 0.03\n"
     ]
    }
   ],
   "source": [
    "print(\n",
    "    f\"{es_sim.name}:\"\n",
    "    f\" {sum(np.array([episode.steps_to_threshold(2e-5) for episode in es_sim.episodes]) < 151) / len(es_sim)}\"\n",
    ")"
   ]
  },
  {
   "cell_type": "code",
   "execution_count": 19,
   "metadata": {},
   "outputs": [
    {
     "name": "stdout",
     "output_type": "stream",
     "text": [
      "ES (Sim) -> Median: 87.0 / Mean: 81.83333333333333 / Std: 36.55177454272531)\n"
     ]
    }
   ],
   "source": [
    "print(\n",
    "    f\"{es_sim.name} -> Median:\"\n",
    "    f\" {es_sim.median_steps_to_convergence(max_steps=151)} / Mean:\"\n",
    "    f\" {es_sim.mean_steps_to_convergence(max_steps=151)} / Std:\"\n",
    "    f\" {es_sim.std_steps_to_convergence(max_steps=151)})\"\n",
    ")"
   ]
  },
  {
   "cell_type": "code",
   "execution_count": 20,
   "metadata": {},
   "outputs": [
    {
     "name": "stdout",
     "output_type": "stream",
     "text": [
      "ES (Sim): 1.0\n"
     ]
    }
   ],
   "source": [
    "print(\n",
    "    f\"{es_sim.name}:\"\n",
    "    f\" {sum(np.array([episode.steps_to_convergence(2e-5) for episode in es_sim.episodes]) < 151) / len(es_sim)}\"\n",
    ")"
   ]
  },
  {
   "cell_type": "code",
   "execution_count": null,
   "metadata": {},
   "outputs": [],
   "source": []
  }
 ],
 "metadata": {
  "kernelspec": {
   "display_name": "ares-transverse-tuning",
   "language": "python",
   "name": "python3"
  },
  "language_info": {
   "codemirror_mode": {
    "name": "ipython",
    "version": 3
   },
   "file_extension": ".py",
   "mimetype": "text/x-python",
   "name": "python",
   "nbconvert_exporter": "python",
   "pygments_lexer": "ipython3",
   "version": "3.9.18"
  }
 },
 "nbformat": 4,
 "nbformat_minor": 2
}
