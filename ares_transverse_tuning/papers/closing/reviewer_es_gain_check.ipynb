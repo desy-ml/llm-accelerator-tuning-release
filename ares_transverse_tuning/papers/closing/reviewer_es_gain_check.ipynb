{
 "cells": [
  {
   "cell_type": "code",
   "execution_count": 1,
   "metadata": {},
   "outputs": [],
   "source": [
    "import sys\n",
    "\n",
    "sys.path.append(\"../../\")"
   ]
  },
  {
   "cell_type": "code",
   "execution_count": 2,
   "metadata": {},
   "outputs": [],
   "source": [
    "import matplotlib\n",
    "import matplotlib.pyplot as plt\n",
    "import scienceplots\n",
    "import seaborn as sns\n",
    "from icecream import ic\n",
    "\n",
    "from src.eval import (\n",
    "    Study,\n",
    "    plot_best_beam_parameter_error_box,\n",
    "    plot_best_mae_box,\n",
    "    plot_final_beam_parameter_error_box,\n",
    "    plot_final_mae_box,\n",
    "    problem_aligned,\n",
    ")"
   ]
  },
  {
   "cell_type": "code",
   "execution_count": 3,
   "metadata": {},
   "outputs": [],
   "source": [
    "FIG_DIR = \"figures\"\n",
    "DATA_DIR = \"../../data/bo_vs_rl\""
   ]
  },
  {
   "cell_type": "code",
   "execution_count": 4,
   "metadata": {},
   "outputs": [],
   "source": [
    "es_sim = Study.load(\n",
    "    f\"{DATA_DIR}/simulation/es_with_decay\", name=\"ES (Sim)\", runs=\"*problem_*\"\n",
    ")\n",
    "es_reviewer_gain_1 = Study.load(\n",
    "    f\"{DATA_DIR}/simulation/es_reviewer_1\", name=\"ES (Rev. 1)\", runs=\"*problem_*\"\n",
    ")\n",
    "es_reviewer_gain_2 = Study.load(\n",
    "    f\"{DATA_DIR}/simulation/es_reviewer_2\", name=\"ES (Rev. 2)\", runs=\"*problem_*\"\n",
    ")"
   ]
  },
  {
   "cell_type": "code",
   "execution_count": 5,
   "metadata": {},
   "outputs": [
    {
     "name": "stderr",
     "output_type": "stream",
     "text": [
      "ic| round(es_sim.median_best_mae() * 1e6): 81\n",
      "    round(es_reviewer_gain_1.median_best_mae() * 1e6): 86\n",
      "    round(es_reviewer_gain_2.median_best_mae() * 1e6): 111\n"
     ]
    },
    {
     "data": {
      "text/plain": [
       "(81, 86, 111)"
      ]
     },
     "execution_count": 5,
     "metadata": {},
     "output_type": "execute_result"
    }
   ],
   "source": [
    "ic(\n",
    "    round(es_sim.median_best_mae() * 1e6),\n",
    "    round(es_reviewer_gain_1.median_best_mae() * 1e6),\n",
    "    round(es_reviewer_gain_2.median_best_mae() * 1e6),\n",
    ")"
   ]
  },
  {
   "cell_type": "code",
   "execution_count": 6,
   "metadata": {},
   "outputs": [
    {
     "name": "stderr",
     "output_type": "stream",
     "text": [
      "ic| round(es_sim.median_final_mae() * 1e6): 145\n",
      "    round(es_reviewer_gain_1.median_final_mae() * 1e6): 134\n",
      "    round(es_reviewer_gain_2.median_final_mae() * 1e6): 154\n"
     ]
    },
    {
     "data": {
      "text/plain": [
       "(145, 134, 154)"
      ]
     },
     "execution_count": 6,
     "metadata": {},
     "output_type": "execute_result"
    }
   ],
   "source": [
    "ic(\n",
    "    round(es_sim.median_final_mae() * 1e6),\n",
    "    round(es_reviewer_gain_1.median_final_mae() * 1e6),\n",
    "    round(es_reviewer_gain_2.median_final_mae() * 1e6),\n",
    ")"
   ]
  },
  {
   "cell_type": "code",
   "execution_count": 7,
   "metadata": {},
   "outputs": [
    {
     "name": "stderr",
     "output_type": "stream",
     "text": [
      "ic| round(es_sim.mean_best_mae() * 1e6): 111\n",
      "    round(es_reviewer_gain_1.mean_best_mae() * 1e6): 103\n",
      "    round(es_reviewer_gain_2.mean_best_mae() * 1e6): 134\n"
     ]
    },
    {
     "data": {
      "text/plain": [
       "(111, 103, 134)"
      ]
     },
     "execution_count": 7,
     "metadata": {},
     "output_type": "execute_result"
    }
   ],
   "source": [
    "ic(\n",
    "    round(es_sim.mean_best_mae() * 1e6),\n",
    "    round(es_reviewer_gain_1.mean_best_mae() * 1e6),\n",
    "    round(es_reviewer_gain_2.mean_best_mae() * 1e6),\n",
    ")"
   ]
  },
  {
   "cell_type": "code",
   "execution_count": 8,
   "metadata": {},
   "outputs": [
    {
     "name": "stderr",
     "output_type": "stream",
     "text": [
      "ic| es_sim.median_steps_to_threshold(threshold=40e-6, max_steps=151): 120.5\n",
      "    es_reviewer_gain_1.median_steps_to_threshold(threshold=40e-6, max_steps=151): 119.5\n",
      "    round(es_reviewer_gain_2.median_steps_to_threshold(threshold=40e-6, max_steps=151)): 141\n"
     ]
    },
    {
     "data": {
      "text/plain": [
       "(120.5, 119.5, 141)"
      ]
     },
     "execution_count": 8,
     "metadata": {},
     "output_type": "execute_result"
    }
   ],
   "source": [
    "ic(\n",
    "    es_sim.median_steps_to_threshold(threshold=40e-6, max_steps=151),\n",
    "    es_reviewer_gain_1.median_steps_to_threshold(threshold=40e-6, max_steps=151),\n",
    "    round(es_reviewer_gain_2.median_steps_to_threshold(threshold=40e-6, max_steps=151)),\n",
    ")"
   ]
  },
  {
   "cell_type": "code",
   "execution_count": 9,
   "metadata": {},
   "outputs": [
    {
     "name": "stderr",
     "output_type": "stream",
     "text": [
      "ic| round(es_sim.mean_steps_to_threshold(threshold=40e-6, max_steps=151)): 107\n",
      "    round(es_reviewer_gain_1.mean_steps_to_threshold(threshold=40e-6, max_steps=151)): 114\n",
      "    round(es_reviewer_gain_2.mean_steps_to_threshold(threshold=40e-6, max_steps=151)): 121\n"
     ]
    },
    {
     "data": {
      "text/plain": [
       "(107, 114, 121)"
      ]
     },
     "execution_count": 9,
     "metadata": {},
     "output_type": "execute_result"
    }
   ],
   "source": [
    "ic(\n",
    "    round(es_sim.mean_steps_to_threshold(threshold=40e-6, max_steps=151)),\n",
    "    round(es_reviewer_gain_1.mean_steps_to_threshold(threshold=40e-6, max_steps=151)),\n",
    "    round(es_reviewer_gain_2.mean_steps_to_threshold(threshold=40e-6, max_steps=151)),\n",
    ")"
   ]
  },
  {
   "cell_type": "code",
   "execution_count": 10,
   "metadata": {},
   "outputs": [
    {
     "name": "stderr",
     "output_type": "stream",
     "text": [
      "ic| round(es_sim.proportion_reached_target(threshold=40e-6, max_steps=151) * 100): 17\n",
      "    round(\n",
      "        es_reviewer_gain_1.proportion_reached_target(threshold=40e-6, max_steps=151)\n",
      "        * 100\n",
      "    ): 15\n",
      "    round(\n",
      "        es_reviewer_gain_2.proportion_reached_target(threshold=40e-6, max_steps=151)\n",
      "        * 100\n",
      "    ): 5\n"
     ]
    },
    {
     "data": {
      "text/plain": [
       "(17, 15, 5)"
      ]
     },
     "execution_count": 10,
     "metadata": {},
     "output_type": "execute_result"
    }
   ],
   "source": [
    "ic(\n",
    "    round(es_sim.proportion_reached_target(threshold=40e-6, max_steps=151) * 100),\n",
    "    round(\n",
    "        es_reviewer_gain_1.proportion_reached_target(threshold=40e-6, max_steps=151)\n",
    "        * 100\n",
    "    ),\n",
    "    round(\n",
    "        es_reviewer_gain_2.proportion_reached_target(threshold=40e-6, max_steps=151)\n",
    "        * 100\n",
    "    ),\n",
    ")"
   ]
  },
  {
   "cell_type": "code",
   "execution_count": 11,
   "metadata": {},
   "outputs": [
    {
     "name": "stderr",
     "output_type": "stream",
     "text": [
      "ic| round(es_sim.median_steps_to_convergence(threshold=40e-6, max_steps=151)): 43\n",
      "    round(\n",
      "        es_reviewer_gain_1.median_steps_to_convergence(threshold=40e-6, max_steps=151)\n",
      "    ): 34\n",
      "    round(\n",
      "        es_reviewer_gain_2.median_steps_to_convergence(threshold=40e-6, max_steps=151)\n",
      "    ): 43\n"
     ]
    },
    {
     "data": {
      "text/plain": [
       "(43, 34, 43)"
      ]
     },
     "execution_count": 11,
     "metadata": {},
     "output_type": "execute_result"
    }
   ],
   "source": [
    "ic(\n",
    "    round(es_sim.median_steps_to_convergence(threshold=40e-6, max_steps=151)),\n",
    "    round(\n",
    "        es_reviewer_gain_1.median_steps_to_convergence(threshold=40e-6, max_steps=151)\n",
    "    ),\n",
    "    round(\n",
    "        es_reviewer_gain_2.median_steps_to_convergence(threshold=40e-6, max_steps=151)\n",
    "    ),\n",
    ")"
   ]
  },
  {
   "cell_type": "code",
   "execution_count": 12,
   "metadata": {},
   "outputs": [
    {
     "name": "stderr",
     "output_type": "stream",
     "text": [
      "ic| round(es_sim.mean_steps_to_convergence(threshold=40e-6, max_steps=151)): 47\n",
      "    round(es_reviewer_gain_1.mean_steps_to_convergence(threshold=40e-6, max_steps=151)): 42\n",
      "    round(es_reviewer_gain_2.mean_steps_to_convergence(threshold=40e-6, max_steps=151)): 48\n"
     ]
    },
    {
     "data": {
      "text/plain": [
       "(47, 42, 48)"
      ]
     },
     "execution_count": 12,
     "metadata": {},
     "output_type": "execute_result"
    }
   ],
   "source": [
    "ic(\n",
    "    round(es_sim.mean_steps_to_convergence(threshold=40e-6, max_steps=151)),\n",
    "    round(es_reviewer_gain_1.mean_steps_to_convergence(threshold=40e-6, max_steps=151)),\n",
    "    round(es_reviewer_gain_2.mean_steps_to_convergence(threshold=40e-6, max_steps=151)),\n",
    ")"
   ]
  },
  {
   "cell_type": "code",
   "execution_count": 13,
   "metadata": {},
   "outputs": [
    {
     "name": "stderr",
     "output_type": "stream",
     "text": [
      "ic| round(es_sim.proportion_converged(threshold=40e-6, max_steps=151) * 100): 100\n",
      "    round(\n",
      "        es_reviewer_gain_1.proportion_converged(threshold=40e-6, max_steps=151) * 100\n",
      "    ): 100\n",
      "    round(\n",
      "        es_reviewer_gain_2.proportion_converged(threshold=40e-6, max_steps=151) * 100\n",
      "    ): 100\n"
     ]
    },
    {
     "data": {
      "text/plain": [
       "(100, 100, 100)"
      ]
     },
     "execution_count": 13,
     "metadata": {},
     "output_type": "execute_result"
    }
   ],
   "source": [
    "ic(\n",
    "    round(es_sim.proportion_converged(threshold=40e-6, max_steps=151) * 100),\n",
    "    round(\n",
    "        es_reviewer_gain_1.proportion_converged(threshold=40e-6, max_steps=151) * 100\n",
    "    ),\n",
    "    round(\n",
    "        es_reviewer_gain_2.proportion_converged(threshold=40e-6, max_steps=151) * 100\n",
    "    ),\n",
    ")"
   ]
  }
 ],
 "metadata": {
  "kernelspec": {
   "display_name": "ares-transverse-tuning",
   "language": "python",
   "name": "python3"
  },
  "language_info": {
   "codemirror_mode": {
    "name": "ipython",
    "version": 3
   },
   "file_extension": ".py",
   "mimetype": "text/x-python",
   "name": "python",
   "nbconvert_exporter": "python",
   "pygments_lexer": "ipython3",
   "version": "3.9.18"
  }
 },
 "nbformat": 4,
 "nbformat_minor": 2
}
