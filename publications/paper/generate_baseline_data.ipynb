{
 "cells": [
  {
   "cell_type": "code",
   "execution_count": 1,
   "metadata": {},
   "outputs": [],
   "source": [
    "import sys\n",
    "\n",
    "sys.path.append(\"../../ares_transverse_tuning\")"
   ]
  },
  {
   "cell_type": "code",
   "execution_count": 2,
   "metadata": {},
   "outputs": [],
   "source": [
    "from datetime import datetime\n",
    "from pathlib import Path\n",
    "\n",
    "import numpy as np\n",
    "import pandas as pd\n",
    "from gymnasium.wrappers import (\n",
    "    FilterObservation,\n",
    "    FlattenObservation,\n",
    "    RescaleAction,\n",
    "    TimeLimit,\n",
    ")\n",
    "from src.bayesopt import BayesianOptimizationAgent\n",
    "from src.environments import ea\n",
    "from src.trial import Trial, load_trials\n",
    "from src.wrappers import NotVecNormalize, PolishedDonkeyCompatibility, RecordEpisode\n",
    "from src.xopt_helper import (\n",
    "    BOXoptCompatibleWrapper,\n",
    "    XoptAgent,\n",
    "    prepare_ARES_EA_data,\n",
    "    rescale_magnet_values,\n",
    ")\n",
    "from stable_baselines3 import TD3\n",
    "from tqdm import tqdm\n",
    "from xopt import VOCS"
   ]
  },
  {
   "cell_type": "code",
   "execution_count": 3,
   "metadata": {},
   "outputs": [],
   "source": [
    "DATA_DIR = Path(\"../../data/paper/baselines\")\n",
    "TRIAL_INDICIES = [0, 33, 38]\n",
    "NUM_REPEATS = 3"
   ]
  },
  {
   "cell_type": "code",
   "execution_count": 4,
   "metadata": {},
   "outputs": [
    {
     "data": {
      "text/plain": [
       "[0, 33, 38, 0, 33, 38, 0, 33, 38]"
      ]
     },
     "execution_count": 4,
     "metadata": {},
     "output_type": "execute_result"
    }
   ],
   "source": [
    "trials = load_trials(Path(\"../../ares_transverse_tuning/data/trials.yaml\"))\n",
    "experiment_indicies = TRIAL_INDICIES * NUM_REPEATS\n",
    "experiment_indicies"
   ]
  },
  {
   "cell_type": "markdown",
   "metadata": {},
   "source": [
    "## Reinforcement Learning\n"
   ]
  },
  {
   "cell_type": "code",
   "execution_count": 5,
   "metadata": {},
   "outputs": [],
   "source": [
    "def try_problem_rl(trial_index: int, trial: Trial, write_data: bool = True) -> None:\n",
    "    model_name = \"polished-donkey-996\"\n",
    "\n",
    "    # Load the model\n",
    "    model = TD3.load(\n",
    "        f\"../../ares_transverse_tuning/models/ea/legacy/{model_name}/model\"\n",
    "    )\n",
    "\n",
    "    # Create the environment\n",
    "    env = ea.TransverseTuning(\n",
    "        backend=\"cheetah\",\n",
    "        backend_args={\n",
    "            \"incoming_mode\": trial.incoming_beam,\n",
    "            \"misalignment_mode\": trial.misalignments,\n",
    "        },\n",
    "        action_mode=\"delta\",\n",
    "        magnet_init_mode=np.array([10, -10, 0, 10, 0]),\n",
    "        max_quad_delta=30 * 0.1,\n",
    "        max_steerer_delta=6e-3 * 0.1,\n",
    "        target_beam_mode=trial.target_beam,\n",
    "        target_threshold=None,\n",
    "        threshold_hold=5,\n",
    "        clip_magnets=True,\n",
    "    )\n",
    "    env = TimeLimit(env, 150)\n",
    "    if write_data:\n",
    "        env = RecordEpisode(\n",
    "            env,\n",
    "            save_dir=str(\n",
    "                DATA_DIR\n",
    "                / \"rl\"\n",
    "                / f\"trial-{trial_index}_{datetime.now().strftime('%Y-%m-%d_%H-%M-%S')}\"\n",
    "            ),\n",
    "        )\n",
    "    env = FilterObservation(env, [\"beam\", \"magnets\", \"target\"])\n",
    "    env = FlattenObservation(env)\n",
    "    env = PolishedDonkeyCompatibility(env)\n",
    "    env = NotVecNormalize(\n",
    "        env,\n",
    "        f\"../../ares_transverse_tuning/models/ea/legacy/{model_name}/vec_normalize.pkl\",\n",
    "    )\n",
    "    env = RescaleAction(env, -1, 1)\n",
    "\n",
    "    # Actual optimisation\n",
    "    observation, info = env.reset()\n",
    "    done = False\n",
    "    while not done:\n",
    "        action, _ = model.predict(observation, deterministic=True)\n",
    "        observation, reward, terminated, truncated, info = env.step(action)\n",
    "        done = terminated or truncated\n",
    "    env.close()"
   ]
  },
  {
   "cell_type": "code",
   "execution_count": 6,
   "metadata": {},
   "outputs": [
    {
     "name": "stderr",
     "output_type": "stream",
     "text": [
      "100%|██████████| 9/9 [00:00<00:00, 4739.33it/s]"
     ]
    },
    {
     "name": "stdout",
     "output_type": "stream",
     "text": [
      "Skipping trial 0 because it has already been run 3 times.\n",
      "Skipping trial 33 because it has already been run 3 times.\n",
      "Skipping trial 38 because it has already been run 3 times.\n",
      "Skipping trial 0 because it has already been run 3 times.\n",
      "Skipping trial 33 because it has already been run 3 times.\n",
      "Skipping trial 38 because it has already been run 3 times.\n",
      "Skipping trial 0 because it has already been run 3 times.\n",
      "Skipping trial 33 because it has already been run 3 times.\n",
      "Skipping trial 38 because it has already been run 3 times.\n"
     ]
    },
    {
     "name": "stderr",
     "output_type": "stream",
     "text": [
      "\n"
     ]
    }
   ],
   "source": [
    "for trial_index in tqdm(experiment_indicies):\n",
    "    if len(list((DATA_DIR / \"rl\").glob(f\"trial-{trial_index}_*\"))) >= NUM_REPEATS:\n",
    "        print(\n",
    "            f\"Skipping trial {trial_index} because it has already been run \"\n",
    "            f\"{NUM_REPEATS} times.\"\n",
    "        )\n",
    "        continue\n",
    "\n",
    "    try_problem_rl(trial_index, trials[trial_index], write_data=True)"
   ]
  },
  {
   "cell_type": "markdown",
   "metadata": {},
   "source": [
    "## Bayesian Optimisation\n"
   ]
  },
  {
   "cell_type": "code",
   "execution_count": 7,
   "metadata": {},
   "outputs": [],
   "source": [
    "def try_problem_bo(\n",
    "    trial_index: int,\n",
    "    trial: Trial,\n",
    "    rescale_action: bool = False,\n",
    "    write_data: bool = True,\n",
    ") -> None:\n",
    "    # Create the environment\n",
    "    env = ea.TransverseTuning(\n",
    "        backend=\"cheetah\",\n",
    "        backend_args={\n",
    "            \"incoming_mode\": trial.incoming_beam,\n",
    "            \"misalignment_mode\": trial.misalignments,\n",
    "        },\n",
    "        action_mode=\"direct\",\n",
    "        magnet_init_mode=np.array([10, -10, 0, 10, 0]),\n",
    "        target_beam_mode=trial.target_beam,\n",
    "    )\n",
    "    env = TimeLimit(env, 150)\n",
    "    if write_data:\n",
    "        env = RecordEpisode(\n",
    "            env,\n",
    "            save_dir=str(\n",
    "                DATA_DIR\n",
    "                / \"bo_hard\"\n",
    "                / f\"trial-{trial_index}_{datetime.now().strftime('%Y-%m-%d_%H-%M-%S')}\"\n",
    "            ),\n",
    "        )\n",
    "\n",
    "    if rescale_action:\n",
    "        env = RescaleAction(env, -1, 1)\n",
    "\n",
    "    env = BOXoptCompatibleWrapper(env, prepare_ARES_EA_data)\n",
    "\n",
    "    vocs = VOCS(\n",
    "        variables={\n",
    "            \"q1\": [-72, 72],\n",
    "            \"q2\": [-72, 72],\n",
    "            \"cv\": [-6.1782e-3, 6.1782e-3],\n",
    "            \"q3\": [-72, 72],\n",
    "            \"ch\": [-6.1782e-3, 6.1782e-3],\n",
    "        },\n",
    "        # objectives={\"mae\": \"MINIMIZE\"},\n",
    "        objectives={\"logmae\": \"MINIMIZE\"},\n",
    "        # constraints={\"max_beamparam\": [\"LESS_THAN\", 2e-3]},\n",
    "    )\n",
    "\n",
    "    # Tuned hyperparameters\n",
    "    optimizer_kwargs = {\n",
    "        \"beta\": 2.0,\n",
    "        \"max_travel_distances\": [0.1] * 5,\n",
    "        \"proximal_weights\": None,\n",
    "    }\n",
    "\n",
    "    # optimizer_kwargs = {\n",
    "    #     \"beta\": 2.0,\n",
    "    #     \"proximal_weights\": 0.5,\n",
    "    #     \"max_travel_distances\": 1,\n",
    "    # }\n",
    "\n",
    "    xopt_agent = XoptAgent(\n",
    "        env,\n",
    "        vocs,\n",
    "        method=\"UCB\",\n",
    "        action_order=[\"q1\", \"q2\", \"cv\", \"q3\", \"ch\"],\n",
    "        **optimizer_kwargs,\n",
    "    )\n",
    "\n",
    "    # Actual optimisation\n",
    "    output, info = env.reset()\n",
    "    if rescale_action:\n",
    "        init_magnet_values = rescale_magnet_values(\n",
    "            env.unwrapped.backend.get_magnets(), env.env\n",
    "        )\n",
    "    else:\n",
    "        init_magnet_values = env.unwrapped.backend.get_magnets()\n",
    "    init_sample = [\n",
    "        {k: v for k, v in zip([\"q1\", \"q2\", \"cv\", \"q3\", \"ch\"], init_magnet_values)}\n",
    "    ]\n",
    "    xopt_agent.add_data(pd.DataFrame(init_sample), output)\n",
    "    done = False\n",
    "    while not done:\n",
    "        action = xopt_agent.predict(n_samples=1)\n",
    "        output, reward, done, truncated, info = env.step(action)\n",
    "        xopt_agent.add_data(xopt_agent.last_sample, output)\n",
    "\n",
    "    env.close()"
   ]
  },
  {
   "cell_type": "code",
   "execution_count": 8,
   "metadata": {},
   "outputs": [
    {
     "name": "stderr",
     "output_type": "stream",
     "text": [
      "100%|██████████| 9/9 [00:00<00:00, 8426.06it/s]"
     ]
    },
    {
     "name": "stdout",
     "output_type": "stream",
     "text": [
      "Skipping trial 0 because it has already been run 3 times.\n",
      "Skipping trial 33 because it has already been run 3 times.\n",
      "Skipping trial 38 because it has already been run 3 times.\n",
      "Skipping trial 0 because it has already been run 3 times.\n",
      "Skipping trial 33 because it has already been run 3 times.\n",
      "Skipping trial 38 because it has already been run 3 times.\n",
      "Skipping trial 0 because it has already been run 3 times.\n",
      "Skipping trial 33 because it has already been run 3 times.\n",
      "Skipping trial 38 because it has already been run 3 times.\n"
     ]
    },
    {
     "name": "stderr",
     "output_type": "stream",
     "text": [
      "\n"
     ]
    }
   ],
   "source": [
    "for trial_index in tqdm(experiment_indicies):\n",
    "    if len(list((DATA_DIR / \"bo_hard\").glob(f\"trial-{trial_index}_*\"))) >= NUM_REPEATS:\n",
    "        print(\n",
    "            f\"Skipping trial {trial_index} because it has already been run \"\n",
    "            f\"{NUM_REPEATS} times.\"\n",
    "        )\n",
    "        continue\n",
    "\n",
    "    try_problem_bo(trial_index, trials[trial_index], write_data=True)"
   ]
  },
  {
   "cell_type": "markdown",
   "metadata": {},
   "source": [
    "## Extremum Seeking\n"
   ]
  },
  {
   "cell_type": "code",
   "execution_count": 9,
   "metadata": {},
   "outputs": [],
   "source": [
    "def try_problem_es(\n",
    "    trial_index: int,\n",
    "    trial: Trial,\n",
    "    version=\"tuned\",\n",
    "    rescale_action: bool = True,\n",
    "    write_data: bool = True,\n",
    "):\n",
    "    if version == \"tuned\":\n",
    "        # Tuned hyperparameters\n",
    "        optimizer_kwargs = {\n",
    "            \"k\": 3.7,\n",
    "            \"oscillation_size\": 0.11,\n",
    "            \"decay_rate\": 0.987,\n",
    "        }\n",
    "        save_dir = f\"data/bo_vs_rl/simulation/es_tuned/problem_{trial_index:03d}\"\n",
    "    elif version == \"default\":\n",
    "        # Default hyperparameters\n",
    "        optimizer_kwargs = {\n",
    "            \"k\": 2.0,\n",
    "            \"oscillation_size\": 0.1,\n",
    "            \"decay_rate\": 1.0,\n",
    "        }\n",
    "        save_dir = f\"data/bo_vs_rl/simulation/es_default/problem_{trial_index:03d}\"\n",
    "    elif version == \"with_decay\":\n",
    "        # Default hyperparameters\n",
    "        optimizer_kwargs = {\n",
    "            \"k\": 2.0,\n",
    "            \"oscillation_size\": 0.1,\n",
    "            \"decay_rate\": 0.99,\n",
    "        }\n",
    "        save_dir = f\"data/bo_vs_rl/simulation/es_with_decay/problem_{trial_index:03d}\"\n",
    "    else:\n",
    "        raise ValueError(f\"Unknown version: {version}\")\n",
    "\n",
    "    # Create the environment\n",
    "    env = ea.TransverseTuning(\n",
    "        backend=\"cheetah\",\n",
    "        backend_args={\n",
    "            \"incoming_mode\": trial.incoming_beam,\n",
    "            \"misalignment_mode\": trial.misalignments,\n",
    "        },\n",
    "        action_mode=\"direct\",\n",
    "        magnet_init_mode=np.array([10, -10, 0, 10, 0]),\n",
    "        target_beam_mode=trial.target_beam,\n",
    "    )\n",
    "    env = TimeLimit(env, 150)\n",
    "    if write_data:\n",
    "        env = RecordEpisode(\n",
    "            env,\n",
    "            save_dir=str(\n",
    "                DATA_DIR\n",
    "                / \"es\"\n",
    "                / f\"trial-{trial_index}_{datetime.now().strftime('%Y-%m-%d_%H-%M-%S')}\"\n",
    "            ),\n",
    "        )\n",
    "\n",
    "    if rescale_action:\n",
    "        env = RescaleAction(env, -1, 1)\n",
    "\n",
    "    env = BOXoptCompatibleWrapper(env, prepare_ARES_EA_data)\n",
    "\n",
    "    if rescale_action is not None:\n",
    "        vocs_variables = {\n",
    "            \"q1\": [-1, 1],\n",
    "            \"q2\": [-1, 1],\n",
    "            \"cv\": [-1, 1],\n",
    "            \"q3\": [-1, 1],\n",
    "            \"ch\": [-1, 1],\n",
    "        }\n",
    "    else:\n",
    "        vocs_variables = {\n",
    "            \"q1\": [-72, 72],\n",
    "            \"q2\": [-72, 72],\n",
    "            \"cv\": [-6.1782e-3, 6.1782e-3],\n",
    "            \"q3\": [-72, 72],\n",
    "            \"ch\": [-6.1782e-3, 6.1782e-3],\n",
    "        }\n",
    "\n",
    "    vocs = VOCS(\n",
    "        variables=vocs_variables,\n",
    "        # objectives={\"mae\": \"MINIMIZE\"},\n",
    "        objectives={\"logmae\": \"MINIMIZE\"},\n",
    "        # constraints={\"max_beamparam\": [\"LESS_THAN\", 2e-3]},\n",
    "    )\n",
    "\n",
    "    xopt_agent = XoptAgent(\n",
    "        env,\n",
    "        vocs,\n",
    "        method=\"ES\",\n",
    "        action_order=[\"q1\", \"q2\", \"cv\", \"q3\", \"ch\"],\n",
    "        **optimizer_kwargs,\n",
    "    )\n",
    "\n",
    "    # Actual optimisation\n",
    "    output, info = env.reset()\n",
    "    if rescale_action is not None:\n",
    "        init_magnet_values = rescale_magnet_values(\n",
    "            env.unwrapped.backend.get_magnets(), env.env\n",
    "        )\n",
    "    else:\n",
    "        init_magnet_values = env.unwrapped.backend.get_magnets()\n",
    "    init_sample = [\n",
    "        {k: v for k, v in zip([\"q1\", \"q2\", \"cv\", \"q3\", \"ch\"], init_magnet_values)}\n",
    "    ]\n",
    "    xopt_agent.add_data(pd.DataFrame(init_sample), output)\n",
    "    done = False\n",
    "    while not done:\n",
    "        action = xopt_agent.predict(n_samples=1)\n",
    "        output, reward, done, truncated, info = env.step(action)\n",
    "        xopt_agent.add_data(xopt_agent.last_sample, output)\n",
    "\n",
    "    env.close()"
   ]
  },
  {
   "cell_type": "code",
   "execution_count": 10,
   "metadata": {},
   "outputs": [
    {
     "name": "stderr",
     "output_type": "stream",
     "text": [
      "100%|██████████| 9/9 [00:00<00:00, 9153.43it/s]"
     ]
    },
    {
     "name": "stdout",
     "output_type": "stream",
     "text": [
      "Skipping trial 0 because it has already been run 3 times.\n",
      "Skipping trial 33 because it has already been run 3 times.\n",
      "Skipping trial 38 because it has already been run 3 times.\n",
      "Skipping trial 0 because it has already been run 3 times.\n",
      "Skipping trial 33 because it has already been run 3 times.\n",
      "Skipping trial 38 because it has already been run 3 times.\n",
      "Skipping trial 0 because it has already been run 3 times.\n",
      "Skipping trial 33 because it has already been run 3 times.\n",
      "Skipping trial 38 because it has already been run 3 times.\n"
     ]
    },
    {
     "name": "stderr",
     "output_type": "stream",
     "text": [
      "\n"
     ]
    }
   ],
   "source": [
    "for trial_index in tqdm(experiment_indicies):\n",
    "    if len(list((DATA_DIR / \"es\").glob(f\"trial-{trial_index}_*\"))) >= NUM_REPEATS:\n",
    "        print(\n",
    "            f\"Skipping trial {trial_index} because it has already been run \"\n",
    "            f\"{NUM_REPEATS} times.\"\n",
    "        )\n",
    "        continue\n",
    "\n",
    "    try_problem_es(\n",
    "        trial_index, trials[trial_index], version=\"with_decay\", write_data=True\n",
    "    )"
   ]
  },
  {
   "cell_type": "markdown",
   "metadata": {},
   "source": [
    "## Random Search\n"
   ]
  },
  {
   "cell_type": "code",
   "execution_count": 11,
   "metadata": {},
   "outputs": [],
   "source": [
    "def try_problem_rs(trial_index: int, trial: Trial, write_data: bool = True) -> None:\n",
    "    # Create the environment\n",
    "    env = ea.TransverseTuning(\n",
    "        backend=\"cheetah\",\n",
    "        backend_args={\n",
    "            \"incoming_mode\": trial.incoming_beam,\n",
    "            \"misalignment_mode\": trial.misalignments,\n",
    "        },\n",
    "        action_mode=\"direct\",\n",
    "        magnet_init_mode=np.array([10, -10, 0, 10, 0]),\n",
    "        target_beam_mode=trial.target_beam,\n",
    "    )\n",
    "    env = TimeLimit(env, 150)\n",
    "    if write_data:\n",
    "        env = RecordEpisode(\n",
    "            env,\n",
    "            save_dir=str(\n",
    "                DATA_DIR\n",
    "                / \"rs\"\n",
    "                / f\"trial-{trial_index}_{datetime.now().strftime('%Y-%m-%d_%H-%M-%S')}\"\n",
    "            ),\n",
    "        )\n",
    "    env = FilterObservation(env, [\"beam\", \"magnets\", \"target\"])\n",
    "    env = FlattenObservation(env)\n",
    "    env = RescaleAction(env, -1, 1)\n",
    "\n",
    "    # Actual optimisation\n",
    "    _, _ = env.reset()\n",
    "    done = False\n",
    "    while not done:\n",
    "        action = env.action_space.sample()\n",
    "        _, _, terminated, truncated, _ = env.step(action)\n",
    "        done = terminated or truncated\n",
    "    env.close()"
   ]
  },
  {
   "cell_type": "code",
   "execution_count": 12,
   "metadata": {},
   "outputs": [
    {
     "name": "stderr",
     "output_type": "stream",
     "text": [
      "100%|██████████| 9/9 [00:00<00:00, 8573.41it/s]"
     ]
    },
    {
     "name": "stdout",
     "output_type": "stream",
     "text": [
      "Skipping trial 0 because it has already been run 3 times.\n",
      "Skipping trial 33 because it has already been run 3 times.\n",
      "Skipping trial 38 because it has already been run 3 times.\n",
      "Skipping trial 0 because it has already been run 3 times.\n",
      "Skipping trial 33 because it has already been run 3 times.\n",
      "Skipping trial 38 because it has already been run 3 times.\n",
      "Skipping trial 0 because it has already been run 3 times.\n",
      "Skipping trial 33 because it has already been run 3 times.\n",
      "Skipping trial 38 because it has already been run 3 times.\n"
     ]
    },
    {
     "name": "stderr",
     "output_type": "stream",
     "text": [
      "\n"
     ]
    }
   ],
   "source": [
    "for trial_index in tqdm(experiment_indicies):\n",
    "    if len(list((DATA_DIR / \"rs\").glob(f\"trial-{trial_index}_*\"))) >= NUM_REPEATS:\n",
    "        print(\n",
    "            f\"Skipping trial {trial_index} because it has already been run \"\n",
    "            f\"{NUM_REPEATS} times.\"\n",
    "        )\n",
    "        continue\n",
    "\n",
    "    try_problem_rs(trial_index, trials[trial_index], write_data=True)"
   ]
  },
  {
   "cell_type": "markdown",
   "metadata": {},
   "source": [
    "## Do Nothing\n"
   ]
  },
  {
   "cell_type": "code",
   "execution_count": 13,
   "metadata": {},
   "outputs": [],
   "source": [
    "def try_problem_dn(trial_index: int, trial: Trial, write_data: bool = True) -> None:\n",
    "    # Create the environment\n",
    "    env = ea.TransverseTuning(\n",
    "        backend=\"cheetah\",\n",
    "        backend_args={\n",
    "            \"incoming_mode\": trial.incoming_beam,\n",
    "            \"misalignment_mode\": trial.misalignments,\n",
    "        },\n",
    "        action_mode=\"direct\",\n",
    "        magnet_init_mode=trial.initial_magnets,\n",
    "        target_beam_mode=trial.target_beam,\n",
    "    )\n",
    "    env = TimeLimit(env, 150)\n",
    "    if write_data:\n",
    "        env = RecordEpisode(\n",
    "            env,\n",
    "            save_dir=str(\n",
    "                DATA_DIR\n",
    "                / \"dn\"\n",
    "                / f\"trial-{trial_index}_{datetime.now().strftime('%Y-%m-%d_%H-%M-%S')}\"\n",
    "            ),\n",
    "        )\n",
    "\n",
    "    # Actual optimisation\n",
    "    _, _ = env.reset()\n",
    "    done = False\n",
    "    while not done:\n",
    "        action = trial.initial_magnets\n",
    "        _, _, terminated, truncated, _ = env.step(action)\n",
    "        done = terminated or truncated\n",
    "    env.close()"
   ]
  },
  {
   "cell_type": "code",
   "execution_count": 14,
   "metadata": {},
   "outputs": [
    {
     "name": "stderr",
     "output_type": "stream",
     "text": [
      "100%|██████████| 9/9 [00:00<00:00, 8972.84it/s]"
     ]
    },
    {
     "name": "stdout",
     "output_type": "stream",
     "text": [
      "Skipping trial 0 because it has already been run 3 times.\n",
      "Skipping trial 33 because it has already been run 3 times.\n",
      "Skipping trial 38 because it has already been run 3 times.\n",
      "Skipping trial 0 because it has already been run 3 times.\n",
      "Skipping trial 33 because it has already been run 3 times.\n",
      "Skipping trial 38 because it has already been run 3 times.\n",
      "Skipping trial 0 because it has already been run 3 times.\n",
      "Skipping trial 33 because it has already been run 3 times.\n",
      "Skipping trial 38 because it has already been run 3 times.\n"
     ]
    },
    {
     "name": "stderr",
     "output_type": "stream",
     "text": [
      "\n"
     ]
    }
   ],
   "source": [
    "for trial_index in tqdm(experiment_indicies):\n",
    "    if len(list((DATA_DIR / \"dn\").glob(f\"trial-{trial_index}_*\"))) >= NUM_REPEATS:\n",
    "        print(\n",
    "            f\"Skipping trial {trial_index} because it has already been run \"\n",
    "            f\"{NUM_REPEATS} times.\"\n",
    "        )\n",
    "        continue\n",
    "\n",
    "    try_problem_dn(trial_index, trials[trial_index], write_data=True)"
   ]
  },
  {
   "cell_type": "code",
   "execution_count": null,
   "metadata": {},
   "outputs": [],
   "source": []
  }
 ],
 "metadata": {
  "kernelspec": {
   "display_name": "llm-accelerator-tuning",
   "language": "python",
   "name": "python3"
  },
  "language_info": {
   "codemirror_mode": {
    "name": "ipython",
    "version": 3
   },
   "file_extension": ".py",
   "mimetype": "text/x-python",
   "name": "python",
   "nbconvert_exporter": "python",
   "pygments_lexer": "ipython3",
   "version": "3.9.18"
  }
 },
 "nbformat": 4,
 "nbformat_minor": 2
}
